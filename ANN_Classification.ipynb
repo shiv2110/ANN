{
 "cells": [
  {
   "cell_type": "markdown",
   "metadata": {
    "colab_type": "text",
    "id": "lP6JLo1tGNBg"
   },
   "source": [
    "# Artificial Neural Network"
   ]
  },
  {
   "cell_type": "markdown",
   "metadata": {
    "colab_type": "text",
    "id": "gWZyYmS_UE_L"
   },
   "source": [
    "### Importing the libraries"
   ]
  },
  {
   "cell_type": "code",
   "execution_count": 3,
   "metadata": {
    "colab": {},
    "colab_type": "code",
    "id": "MxkJoQBkUIHC"
   },
   "outputs": [],
   "source": [
    "import numpy as np\n",
    "import pandas as pd\n",
    "import tensorflow as tf\n"
   ]
  },
  {
   "cell_type": "code",
   "execution_count": 4,
   "metadata": {
    "colab": {
     "base_uri": "https://localhost:8080/",
     "height": 34
    },
    "colab_type": "code",
    "executionInfo": {
     "elapsed": 2400,
     "status": "ok",
     "timestamp": 1590257449959,
     "user": {
      "displayName": "Hadelin de Ponteves",
      "photoUrl": "https://lh3.googleusercontent.com/a-/AOh14GhEuXdT7eQweUmRPW8_laJuPggSK6hfvpl5a6WBaA=s64",
      "userId": "15047218817161520419"
     },
     "user_tz": -240
    },
    "id": "ZaTwK7ojXr2F",
    "outputId": "0b27a96d-d11a-43e8-ab4b-87c1f01896fe"
   },
   "outputs": [
    {
     "data": {
      "text/plain": [
       "'2.1.0'"
      ]
     },
     "execution_count": 4,
     "metadata": {},
     "output_type": "execute_result"
    }
   ],
   "source": [
    "tf.__version__"
   ]
  },
  {
   "cell_type": "markdown",
   "metadata": {
    "colab_type": "text",
    "id": "1E0Q3aoKUCRX"
   },
   "source": [
    "## Part 1 - Data Preprocessing"
   ]
  },
  {
   "cell_type": "markdown",
   "metadata": {
    "colab_type": "text",
    "id": "cKWAkFVGUU0Z"
   },
   "source": [
    "### Importing the dataset"
   ]
  },
  {
   "cell_type": "code",
   "execution_count": 5,
   "metadata": {
    "colab": {},
    "colab_type": "code",
    "id": "MXUkhkMfU4wq"
   },
   "outputs": [],
   "source": [
    "dataset = pd.read_csv('Churn_Modelling.csv')"
   ]
  },
  {
   "cell_type": "code",
   "execution_count": 6,
   "metadata": {
    "colab": {
     "base_uri": "https://localhost:8080/",
     "height": 137
    },
    "colab_type": "code",
    "executionInfo": {
     "elapsed": 2396,
     "status": "ok",
     "timestamp": 1590257449961,
     "user": {
      "displayName": "Hadelin de Ponteves",
      "photoUrl": "https://lh3.googleusercontent.com/a-/AOh14GhEuXdT7eQweUmRPW8_laJuPggSK6hfvpl5a6WBaA=s64",
      "userId": "15047218817161520419"
     },
     "user_tz": -240
    },
    "id": "VYP9cQTWbzuI",
    "outputId": "797e7a64-9bac-436a-8c9c-94437e5e7587"
   },
   "outputs": [],
   "source": [
    "x = dataset.iloc[:, 3:-1].values"
   ]
  },
  {
   "cell_type": "code",
   "execution_count": 9,
   "metadata": {},
   "outputs": [
    {
     "name": "stdout",
     "output_type": "stream",
     "text": [
      "[[619 'France' 'Female' ... 1 1 101348.88]\n",
      " [608 'Spain' 'Female' ... 0 1 112542.58]\n",
      " [502 'France' 'Female' ... 1 0 113931.57]\n",
      " ...\n",
      " [709 'France' 'Female' ... 0 1 42085.58]\n",
      " [772 'Germany' 'Male' ... 1 0 92888.52]\n",
      " [792 'France' 'Female' ... 1 0 38190.78]]\n"
     ]
    }
   ],
   "source": [
    "print(x)"
   ]
  },
  {
   "cell_type": "code",
   "execution_count": 10,
   "metadata": {
    "colab": {
     "base_uri": "https://localhost:8080/",
     "height": 34
    },
    "colab_type": "code",
    "executionInfo": {
     "elapsed": 2391,
     "status": "ok",
     "timestamp": 1590257449961,
     "user": {
      "displayName": "Hadelin de Ponteves",
      "photoUrl": "https://lh3.googleusercontent.com/a-/AOh14GhEuXdT7eQweUmRPW8_laJuPggSK6hfvpl5a6WBaA=s64",
      "userId": "15047218817161520419"
     },
     "user_tz": -240
    },
    "id": "38vKGE6Nb2RR",
    "outputId": "a815e42a-e0dd-4cb5-ab97-b17ead98fbc3"
   },
   "outputs": [],
   "source": [
    "y = dataset.iloc[:, -1].values"
   ]
  },
  {
   "cell_type": "markdown",
   "metadata": {
    "colab_type": "text",
    "id": "N6bQ0UgSU-NJ"
   },
   "source": [
    "### Encoding categorical data"
   ]
  },
  {
   "cell_type": "markdown",
   "metadata": {
    "colab_type": "text",
    "id": "le5MJreAbW52"
   },
   "source": [
    "Label Encoding the \"Gender\" column"
   ]
  },
  {
   "cell_type": "code",
   "execution_count": 12,
   "metadata": {
    "colab": {},
    "colab_type": "code",
    "id": "PxVKWXxLbczC"
   },
   "outputs": [],
   "source": [
    "from sklearn.preprocessing import LabelEncoder\n",
    "le = LabelEncoder()\n",
    "x[:, 2] = le.fit_transform(x[:, 2])"
   ]
  },
  {
   "cell_type": "code",
   "execution_count": 13,
   "metadata": {
    "colab": {
     "base_uri": "https://localhost:8080/",
     "height": 137
    },
    "colab_type": "code",
    "executionInfo": {
     "elapsed": 2719,
     "status": "ok",
     "timestamp": 1590257450295,
     "user": {
      "displayName": "Hadelin de Ponteves",
      "photoUrl": "https://lh3.googleusercontent.com/a-/AOh14GhEuXdT7eQweUmRPW8_laJuPggSK6hfvpl5a6WBaA=s64",
      "userId": "15047218817161520419"
     },
     "user_tz": -240
    },
    "id": "-M1KboxFb6OO",
    "outputId": "e2b8c7e8-0cbc-4cdf-f4eb-7f0853a00b88"
   },
   "outputs": [
    {
     "name": "stdout",
     "output_type": "stream",
     "text": [
      "[[619 'France' 0 ... 1 1 101348.88]\n",
      " [608 'Spain' 0 ... 0 1 112542.58]\n",
      " [502 'France' 0 ... 1 0 113931.57]\n",
      " ...\n",
      " [709 'France' 0 ... 0 1 42085.58]\n",
      " [772 'Germany' 1 ... 1 0 92888.52]\n",
      " [792 'France' 0 ... 1 0 38190.78]]\n"
     ]
    }
   ],
   "source": [
    "print(x)"
   ]
  },
  {
   "cell_type": "markdown",
   "metadata": {
    "colab_type": "text",
    "id": "CUxGZezpbMcb"
   },
   "source": [
    "One Hot Encoding the \"Geography\" column"
   ]
  },
  {
   "cell_type": "code",
   "execution_count": 14,
   "metadata": {
    "colab": {},
    "colab_type": "code",
    "id": "AMXC8-KMVirw"
   },
   "outputs": [],
   "source": [
    "from sklearn.compose import ColumnTransformer\n",
    "from sklearn.preprocessing import OneHotEncoder\n",
    "ct = ColumnTransformer(transformers = [('encoder', OneHotEncoder(), [1])], remainder = 'passthrough')\n",
    "x = np.array(ct.fit_transform(x))"
   ]
  },
  {
   "cell_type": "code",
   "execution_count": 16,
   "metadata": {
    "colab": {
     "base_uri": "https://localhost:8080/",
     "height": 137
    },
    "colab_type": "code",
    "executionInfo": {
     "elapsed": 2713,
     "status": "ok",
     "timestamp": 1590257450296,
     "user": {
      "displayName": "Hadelin de Ponteves",
      "photoUrl": "https://lh3.googleusercontent.com/a-/AOh14GhEuXdT7eQweUmRPW8_laJuPggSK6hfvpl5a6WBaA=s64",
      "userId": "15047218817161520419"
     },
     "user_tz": -240
    },
    "id": "ZcxwEon-b8nV",
    "outputId": "23a98af4-5e33-4b26-c27b-f06e3c5d2baf"
   },
   "outputs": [
    {
     "name": "stdout",
     "output_type": "stream",
     "text": [
      "[[1.0 0.0 0.0 ... 1 1 101348.88]\n",
      " [0.0 0.0 1.0 ... 0 1 112542.58]\n",
      " [1.0 0.0 0.0 ... 1 0 113931.57]\n",
      " ...\n",
      " [1.0 0.0 0.0 ... 0 1 42085.58]\n",
      " [0.0 1.0 0.0 ... 1 0 92888.52]\n",
      " [1.0 0.0 0.0 ... 1 0 38190.78]]\n"
     ]
    }
   ],
   "source": [
    "print(x)"
   ]
  },
  {
   "cell_type": "markdown",
   "metadata": {
    "colab_type": "text",
    "id": "vHol938cW8zd"
   },
   "source": [
    "### Splitting the dataset into the Training set and Test set"
   ]
  },
  {
   "cell_type": "code",
   "execution_count": 17,
   "metadata": {
    "colab": {},
    "colab_type": "code",
    "id": "Z-TDt0Y_XEfc"
   },
   "outputs": [],
   "source": [
    "from sklearn.model_selection import train_test_split\n",
    "x_train, x_test, y_train, y_test = train_test_split(x, y, test_size = 0.2, random_state = 0)"
   ]
  },
  {
   "cell_type": "markdown",
   "metadata": {
    "colab_type": "text",
    "id": "RE_FcHyfV3TQ"
   },
   "source": [
    "### Feature Scaling"
   ]
  },
  {
   "cell_type": "code",
   "execution_count": 18,
   "metadata": {
    "colab": {},
    "colab_type": "code",
    "id": "ViCrE00rV8Sk"
   },
   "outputs": [],
   "source": [
    "from sklearn.preprocessing import StandardScaler\n",
    "sc = StandardScaler()\n",
    "x_train = sc.fit_transform(x_train)\n",
    "x_test = sc.transform(x_test)"
   ]
  },
  {
   "cell_type": "markdown",
   "metadata": {
    "colab_type": "text",
    "id": "-zfEzkRVXIwF"
   },
   "source": [
    "## Part 2 - Building the ANN"
   ]
  },
  {
   "cell_type": "markdown",
   "metadata": {
    "colab_type": "text",
    "id": "KvdeScabXtlB"
   },
   "source": [
    "### Initializing the ANN"
   ]
  },
  {
   "cell_type": "code",
   "execution_count": 19,
   "metadata": {
    "colab": {},
    "colab_type": "code",
    "id": "3dtrScHxXQox"
   },
   "outputs": [],
   "source": [
    "ann = tf.keras.models.Sequential()"
   ]
  },
  {
   "cell_type": "markdown",
   "metadata": {
    "colab_type": "text",
    "id": "rP6urV6SX7kS"
   },
   "source": [
    "### Adding the input layer and the first hidden layer"
   ]
  },
  {
   "cell_type": "code",
   "execution_count": 21,
   "metadata": {
    "colab": {},
    "colab_type": "code",
    "id": "bppGycBXYCQr"
   },
   "outputs": [],
   "source": [
    "ann.add(tf.keras.layers.Dense(units = 6, activation = 'relu'))"
   ]
  },
  {
   "cell_type": "markdown",
   "metadata": {
    "colab_type": "text",
    "id": "BELWAc_8YJze"
   },
   "source": [
    "### Adding the second hidden layer"
   ]
  },
  {
   "cell_type": "code",
   "execution_count": 22,
   "metadata": {
    "colab": {},
    "colab_type": "code",
    "id": "JneR0u0sYRTd"
   },
   "outputs": [],
   "source": [
    "ann.add(tf.keras.layers.Dense(units = 6, activation = 'relu'))"
   ]
  },
  {
   "cell_type": "markdown",
   "metadata": {
    "colab_type": "text",
    "id": "OyNEe6RXYcU4"
   },
   "source": [
    "### Adding the output layer"
   ]
  },
  {
   "cell_type": "code",
   "execution_count": 23,
   "metadata": {
    "colab": {},
    "colab_type": "code",
    "id": "Cn3x41RBYfvY"
   },
   "outputs": [],
   "source": [
    "ann.add(tf.keras.layers.Dense(units = 1, activation = 'sigmoid'))"
   ]
  },
  {
   "cell_type": "markdown",
   "metadata": {
    "colab_type": "text",
    "id": "JT4u2S1_Y4WG"
   },
   "source": [
    "## Part 3 - Training the ANN"
   ]
  },
  {
   "cell_type": "markdown",
   "metadata": {
    "colab_type": "text",
    "id": "8GWlJChhY_ZI"
   },
   "source": [
    "### Compiling the ANN"
   ]
  },
  {
   "cell_type": "code",
   "execution_count": 24,
   "metadata": {
    "colab": {},
    "colab_type": "code",
    "id": "fG3RrwDXZEaS"
   },
   "outputs": [],
   "source": [
    "ann.compile(optimizer = 'adam', loss = 'binary_crossentropy', metrics = ['accuracy'])"
   ]
  },
  {
   "cell_type": "markdown",
   "metadata": {
    "colab_type": "text",
    "id": "0QR_G5u7ZLSM"
   },
   "source": [
    "### Training the ANN on the Training set"
   ]
  },
  {
   "cell_type": "code",
   "execution_count": 26,
   "metadata": {
    "colab": {
     "base_uri": "https://localhost:8080/",
     "height": 1000
    },
    "colab_type": "code",
    "executionInfo": {
     "elapsed": 33685,
     "status": "ok",
     "timestamp": 1590257481284,
     "user": {
      "displayName": "Hadelin de Ponteves",
      "photoUrl": "https://lh3.googleusercontent.com/a-/AOh14GhEuXdT7eQweUmRPW8_laJuPggSK6hfvpl5a6WBaA=s64",
      "userId": "15047218817161520419"
     },
     "user_tz": -240
    },
    "id": "nHZ-LKv_ZRb3",
    "outputId": "718cc4b0-b5aa-40f0-9b20-d3d31730a531",
    "scrolled": true
   },
   "outputs": [
    {
     "name": "stdout",
     "output_type": "stream",
     "text": [
      "Train on 8000 samples\n",
      "Epoch 1/100\n",
      "8000/8000 [==============================] - 1s 72us/sample - loss: 0.3357 - accuracy: 0.8645\n",
      "Epoch 2/100\n",
      "8000/8000 [==============================] - 1s 75us/sample - loss: 0.3356 - accuracy: 0.8616\n",
      "Epoch 3/100\n",
      "8000/8000 [==============================] - 1s 70us/sample - loss: 0.3358 - accuracy: 0.8622\n",
      "Epoch 4/100\n",
      "8000/8000 [==============================] - 1s 68us/sample - loss: 0.3357 - accuracy: 0.8641\n",
      "Epoch 5/100\n",
      "8000/8000 [==============================] - 1s 68us/sample - loss: 0.3352 - accuracy: 0.8666\n",
      "Epoch 6/100\n",
      "8000/8000 [==============================] - 1s 68us/sample - loss: 0.3352 - accuracy: 0.8643\n",
      "Epoch 7/100\n",
      "8000/8000 [==============================] - 1s 69us/sample - loss: 0.3351 - accuracy: 0.8650\n",
      "Epoch 8/100\n",
      "8000/8000 [==============================] - 1s 68us/sample - loss: 0.3354 - accuracy: 0.8639\n",
      "Epoch 9/100\n",
      "8000/8000 [==============================] - 1s 69us/sample - loss: 0.3353 - accuracy: 0.8652\n",
      "Epoch 10/100\n",
      "8000/8000 [==============================] - 1s 69us/sample - loss: 0.3354 - accuracy: 0.8648\n",
      "Epoch 11/100\n",
      "8000/8000 [==============================] - 1s 69us/sample - loss: 0.3356 - accuracy: 0.8644\n",
      "Epoch 12/100\n",
      "8000/8000 [==============================] - 1s 69us/sample - loss: 0.3348 - accuracy: 0.8637\n",
      "Epoch 13/100\n",
      "8000/8000 [==============================] - 1s 69us/sample - loss: 0.3351 - accuracy: 0.8646\n",
      "Epoch 14/100\n",
      "8000/8000 [==============================] - 1s 68us/sample - loss: 0.3348 - accuracy: 0.8652\n",
      "Epoch 15/100\n",
      "8000/8000 [==============================] - 1s 69us/sample - loss: 0.3348 - accuracy: 0.8652\n",
      "Epoch 16/100\n",
      "8000/8000 [==============================] - 1s 69us/sample - loss: 0.3348 - accuracy: 0.8645\n",
      "Epoch 17/100\n",
      "8000/8000 [==============================] - 1s 69us/sample - loss: 0.3345 - accuracy: 0.8644\n",
      "Epoch 18/100\n",
      "8000/8000 [==============================] - 1s 69us/sample - loss: 0.3349 - accuracy: 0.8640\n",
      "Epoch 19/100\n",
      "8000/8000 [==============================] - 1s 68us/sample - loss: 0.3347 - accuracy: 0.8652\n",
      "Epoch 20/100\n",
      "8000/8000 [==============================] - 1s 69us/sample - loss: 0.3342 - accuracy: 0.8649\n",
      "Epoch 21/100\n",
      "8000/8000 [==============================] - 1s 69us/sample - loss: 0.3346 - accuracy: 0.8655\n",
      "Epoch 22/100\n",
      "8000/8000 [==============================] - 1s 70us/sample - loss: 0.3342 - accuracy: 0.8671\n",
      "Epoch 23/100\n",
      "8000/8000 [==============================] - 1s 68us/sample - loss: 0.3344 - accuracy: 0.8654\n",
      "Epoch 24/100\n",
      "8000/8000 [==============================] - 1s 69us/sample - loss: 0.3339 - accuracy: 0.8640\n",
      "Epoch 25/100\n",
      "8000/8000 [==============================] - 1s 69us/sample - loss: 0.3351 - accuracy: 0.8649\n",
      "Epoch 26/100\n",
      "8000/8000 [==============================] - 1s 68us/sample - loss: 0.3343 - accuracy: 0.8639\n",
      "Epoch 27/100\n",
      "8000/8000 [==============================] - 1s 69us/sample - loss: 0.3342 - accuracy: 0.8649\n",
      "Epoch 28/100\n",
      "8000/8000 [==============================] - 1s 70us/sample - loss: 0.3344 - accuracy: 0.8651\n",
      "Epoch 29/100\n",
      "8000/8000 [==============================] - 1s 73us/sample - loss: 0.3338 - accuracy: 0.8643\n",
      "Epoch 30/100\n",
      "8000/8000 [==============================] - 1s 78us/sample - loss: 0.3346 - accuracy: 0.8640\n",
      "Epoch 31/100\n",
      "8000/8000 [==============================] - 1s 76us/sample - loss: 0.3343 - accuracy: 0.8643\n",
      "Epoch 32/100\n",
      "8000/8000 [==============================] - 1s 69us/sample - loss: 0.3339 - accuracy: 0.8656\n",
      "Epoch 33/100\n",
      "8000/8000 [==============================] - 1s 68us/sample - loss: 0.3340 - accuracy: 0.8643\n",
      "Epoch 34/100\n",
      "8000/8000 [==============================] - 1s 69us/sample - loss: 0.3343 - accuracy: 0.8658\n",
      "Epoch 35/100\n",
      "8000/8000 [==============================] - 1s 68us/sample - loss: 0.3345 - accuracy: 0.8640\n",
      "Epoch 36/100\n",
      "8000/8000 [==============================] - 1s 68us/sample - loss: 0.3339 - accuracy: 0.8640\n",
      "Epoch 37/100\n",
      "8000/8000 [==============================] - 1s 68us/sample - loss: 0.3346 - accuracy: 0.8659\n",
      "Epoch 38/100\n",
      "8000/8000 [==============================] - 1s 69us/sample - loss: 0.3342 - accuracy: 0.8640\n",
      "Epoch 39/100\n",
      "8000/8000 [==============================] - 1s 69us/sample - loss: 0.3338 - accuracy: 0.8651s - loss: 0.3291 - \n",
      "Epoch 40/100\n",
      "8000/8000 [==============================] - 1s 70us/sample - loss: 0.3345 - accuracy: 0.8640\n",
      "Epoch 41/100\n",
      "8000/8000 [==============================] - 1s 68us/sample - loss: 0.3337 - accuracy: 0.8644\n",
      "Epoch 42/100\n",
      "8000/8000 [==============================] - 1s 68us/sample - loss: 0.3341 - accuracy: 0.8662\n",
      "Epoch 43/100\n",
      "8000/8000 [==============================] - 1s 70us/sample - loss: 0.3339 - accuracy: 0.8652\n",
      "Epoch 44/100\n",
      "8000/8000 [==============================] - 1s 67us/sample - loss: 0.3338 - accuracy: 0.8635\n",
      "Epoch 45/100\n",
      "8000/8000 [==============================] - 1s 67us/sample - loss: 0.3335 - accuracy: 0.8655\n",
      "Epoch 46/100\n",
      "8000/8000 [==============================] - 1s 63us/sample - loss: 0.3335 - accuracy: 0.8659\n",
      "Epoch 47/100\n",
      "8000/8000 [==============================] - 1s 66us/sample - loss: 0.3338 - accuracy: 0.8651\n",
      "Epoch 48/100\n",
      "8000/8000 [==============================] - 1s 68us/sample - loss: 0.3338 - accuracy: 0.8651\n",
      "Epoch 49/100\n",
      "8000/8000 [==============================] - 1s 67us/sample - loss: 0.3335 - accuracy: 0.8645\n",
      "Epoch 50/100\n",
      "8000/8000 [==============================] - 1s 68us/sample - loss: 0.3338 - accuracy: 0.8655\n",
      "Epoch 51/100\n",
      "8000/8000 [==============================] - 1s 68us/sample - loss: 0.3334 - accuracy: 0.8658\n",
      "Epoch 52/100\n",
      "8000/8000 [==============================] - 1s 68us/sample - loss: 0.3340 - accuracy: 0.8648\n",
      "Epoch 53/100\n",
      "8000/8000 [==============================] - 1s 65us/sample - loss: 0.3333 - accuracy: 0.8645\n",
      "Epoch 54/100\n",
      "8000/8000 [==============================] - 1s 68us/sample - loss: 0.3337 - accuracy: 0.8643\n",
      "Epoch 55/100\n",
      "8000/8000 [==============================] - 1s 67us/sample - loss: 0.3333 - accuracy: 0.8649\n",
      "Epoch 56/100\n",
      "8000/8000 [==============================] - 1s 69us/sample - loss: 0.3335 - accuracy: 0.8655\n",
      "Epoch 57/100\n",
      "8000/8000 [==============================] - 1s 68us/sample - loss: 0.3334 - accuracy: 0.8631\n",
      "Epoch 58/100\n",
      "8000/8000 [==============================] - 1s 70us/sample - loss: 0.3336 - accuracy: 0.8644\n",
      "Epoch 59/100\n",
      "8000/8000 [==============================] - 1s 79us/sample - loss: 0.3334 - accuracy: 0.8654\n",
      "Epoch 60/100\n",
      "8000/8000 [==============================] - 1s 76us/sample - loss: 0.3331 - accuracy: 0.8656\n",
      "Epoch 61/100\n",
      "8000/8000 [==============================] - 1s 71us/sample - loss: 0.3334 - accuracy: 0.8659\n",
      "Epoch 62/100\n",
      "8000/8000 [==============================] - 1s 66us/sample - loss: 0.3335 - accuracy: 0.8646\n",
      "Epoch 63/100\n",
      "8000/8000 [==============================] - 1s 66us/sample - loss: 0.3334 - accuracy: 0.8658\n",
      "Epoch 64/100\n",
      "8000/8000 [==============================] - 1s 68us/sample - loss: 0.3337 - accuracy: 0.8655\n",
      "Epoch 65/100\n",
      "8000/8000 [==============================] - 1s 66us/sample - loss: 0.3337 - accuracy: 0.8648\n",
      "Epoch 66/100\n",
      "8000/8000 [==============================] - 1s 69us/sample - loss: 0.3331 - accuracy: 0.8649\n",
      "Epoch 67/100\n",
      "8000/8000 [==============================] - 1s 73us/sample - loss: 0.3331 - accuracy: 0.8661\n",
      "Epoch 68/100\n",
      "8000/8000 [==============================] - 1s 70us/sample - loss: 0.3329 - accuracy: 0.8648\n",
      "Epoch 69/100\n",
      "8000/8000 [==============================] - 1s 68us/sample - loss: 0.3332 - accuracy: 0.8658\n",
      "Epoch 70/100\n",
      "8000/8000 [==============================] - 1s 68us/sample - loss: 0.3337 - accuracy: 0.8633\n",
      "Epoch 71/100\n",
      "8000/8000 [==============================] - 1s 65us/sample - loss: 0.3336 - accuracy: 0.8655\n",
      "Epoch 72/100\n",
      "8000/8000 [==============================] - 1s 67us/sample - loss: 0.3332 - accuracy: 0.8648\n",
      "Epoch 73/100\n",
      "8000/8000 [==============================] - 1s 67us/sample - loss: 0.3329 - accuracy: 0.8655\n",
      "Epoch 74/100\n",
      "8000/8000 [==============================] - 1s 65us/sample - loss: 0.3334 - accuracy: 0.8658\n",
      "Epoch 75/100\n",
      "8000/8000 [==============================] - 1s 68us/sample - loss: 0.3330 - accuracy: 0.8661\n",
      "Epoch 76/100\n",
      "8000/8000 [==============================] - 1s 66us/sample - loss: 0.3328 - accuracy: 0.8661\n",
      "Epoch 77/100\n",
      "8000/8000 [==============================] - 1s 65us/sample - loss: 0.3330 - accuracy: 0.8650\n",
      "Epoch 78/100\n",
      "8000/8000 [==============================] - 1s 68us/sample - loss: 0.3337 - accuracy: 0.8659\n",
      "Epoch 79/100\n",
      "8000/8000 [==============================] - 1s 68us/sample - loss: 0.3329 - accuracy: 0.8659\n",
      "Epoch 80/100\n",
      "8000/8000 [==============================] - 1s 68us/sample - loss: 0.3322 - accuracy: 0.8644\n",
      "Epoch 81/100\n",
      "8000/8000 [==============================] - 1s 68us/sample - loss: 0.3333 - accuracy: 0.8654\n",
      "Epoch 82/100\n",
      "8000/8000 [==============================] - 1s 68us/sample - loss: 0.3327 - accuracy: 0.8649\n",
      "Epoch 83/100\n",
      "8000/8000 [==============================] - 1s 68us/sample - loss: 0.3332 - accuracy: 0.8655\n",
      "Epoch 84/100\n",
      "8000/8000 [==============================] - 1s 69us/sample - loss: 0.3333 - accuracy: 0.8655\n",
      "Epoch 85/100\n",
      "8000/8000 [==============================] - 1s 68us/sample - loss: 0.3326 - accuracy: 0.8654\n",
      "Epoch 86/100\n",
      "8000/8000 [==============================] - 1s 69us/sample - loss: 0.3324 - accuracy: 0.8658\n",
      "Epoch 87/100\n",
      "8000/8000 [==============================] - 1s 72us/sample - loss: 0.3328 - accuracy: 0.8658\n",
      "Epoch 88/100\n",
      "8000/8000 [==============================] - 1s 75us/sample - loss: 0.3328 - accuracy: 0.8651\n",
      "Epoch 89/100\n",
      "8000/8000 [==============================] - 1s 74us/sample - loss: 0.3329 - accuracy: 0.8658\n",
      "Epoch 90/100\n",
      "8000/8000 [==============================] - 1s 71us/sample - loss: 0.3326 - accuracy: 0.8655\n",
      "Epoch 91/100\n",
      "8000/8000 [==============================] - 1s 68us/sample - loss: 0.3325 - accuracy: 0.8674\n",
      "Epoch 92/100\n",
      "8000/8000 [==============================] - 1s 69us/sample - loss: 0.3327 - accuracy: 0.8656\n",
      "Epoch 93/100\n",
      "8000/8000 [==============================] - 1s 69us/sample - loss: 0.3328 - accuracy: 0.8661\n",
      "Epoch 94/100\n",
      "8000/8000 [==============================] - 1s 68us/sample - loss: 0.3328 - accuracy: 0.8655\n",
      "Epoch 95/100\n",
      "8000/8000 [==============================] - 1s 69us/sample - loss: 0.3327 - accuracy: 0.8645\n",
      "Epoch 96/100\n",
      "8000/8000 [==============================] - 1s 68us/sample - loss: 0.3323 - accuracy: 0.8639\n",
      "Epoch 97/100\n",
      "8000/8000 [==============================] - 1s 69us/sample - loss: 0.3324 - accuracy: 0.8660\n",
      "Epoch 98/100\n",
      "8000/8000 [==============================] - 1s 69us/sample - loss: 0.3327 - accuracy: 0.8643\n",
      "Epoch 99/100\n",
      "8000/8000 [==============================] - 1s 69us/sample - loss: 0.3326 - accuracy: 0.8654\n",
      "Epoch 100/100\n",
      "8000/8000 [==============================] - 1s 68us/sample - loss: 0.3325 - accuracy: 0.8668\n"
     ]
    },
    {
     "data": {
      "text/plain": [
       "<tensorflow.python.keras.callbacks.History at 0x1dea3f50448>"
      ]
     },
     "execution_count": 26,
     "metadata": {},
     "output_type": "execute_result"
    }
   ],
   "source": [
    "ann.fit(x_train, y_train, batch_size = 32, epochs = 100)"
   ]
  },
  {
   "cell_type": "markdown",
   "metadata": {
    "colab_type": "text",
    "id": "tJj5k2MxZga3"
   },
   "source": [
    "## Part 4 - Making the predictions and evaluating the model"
   ]
  },
  {
   "cell_type": "markdown",
   "metadata": {
    "colab_type": "text",
    "id": "84QFoqGYeXHL"
   },
   "source": [
    "### Predicting the result of a single observation"
   ]
  },
  {
   "cell_type": "code",
   "execution_count": 37,
   "metadata": {
    "colab": {
     "base_uri": "https://localhost:8080/",
     "height": 34
    },
    "colab_type": "code",
    "executionInfo": {
     "elapsed": 33990,
     "status": "ok",
     "timestamp": 1590257481594,
     "user": {
      "displayName": "Hadelin de Ponteves",
      "photoUrl": "https://lh3.googleusercontent.com/a-/AOh14GhEuXdT7eQweUmRPW8_laJuPggSK6hfvpl5a6WBaA=s64",
      "userId": "15047218817161520419"
     },
     "user_tz": -240
    },
    "id": "2d8IoCCkeWGL",
    "outputId": "957f3970-e197-4c3b-a150-7f69dc567f5d"
   },
   "outputs": [
    {
     "name": "stdout",
     "output_type": "stream",
     "text": [
      "[[False]]\n"
     ]
    }
   ],
   "source": [
    "print(ann.predict(sc.transform([[1, 0, 0, 600, 1, 40, 3, 60000, 2, 1, 1, 50000]])) > 0.5) "
   ]
  },
  {
   "cell_type": "markdown",
   "metadata": {
    "colab_type": "text",
    "id": "u7yx47jPZt11"
   },
   "source": [
    "### Predicting the Test set results"
   ]
  },
  {
   "cell_type": "code",
   "execution_count": 38,
   "metadata": {
    "colab": {
     "base_uri": "https://localhost:8080/",
     "height": 137
    },
    "colab_type": "code",
    "executionInfo": {
     "elapsed": 33987,
     "status": "ok",
     "timestamp": 1590257481595,
     "user": {
      "displayName": "Hadelin de Ponteves",
      "photoUrl": "https://lh3.googleusercontent.com/a-/AOh14GhEuXdT7eQweUmRPW8_laJuPggSK6hfvpl5a6WBaA=s64",
      "userId": "15047218817161520419"
     },
     "user_tz": -240
    },
    "id": "nIyEeQdRZwgs",
    "outputId": "82330ba8-9bdc-4fd1-d3cf-b6d78ee7c2a3",
    "scrolled": false
   },
   "outputs": [
    {
     "name": "stdout",
     "output_type": "stream",
     "text": [
      "[[0 0]\n",
      " [0 1]\n",
      " [0 0]\n",
      " ...\n",
      " [0 0]\n",
      " [0 0]\n",
      " [0 0]]\n"
     ]
    }
   ],
   "source": [
    "y_pred = ann.predict(x_test)\n",
    "y_pred = y_pred > 0.5\n",
    "print(np.concatenate((y_pred.reshape(len(y_pred), 1), y_test.reshape(len(y_test), 1)), 1))"
   ]
  },
  {
   "cell_type": "markdown",
   "metadata": {
    "colab_type": "text",
    "id": "o0oyfLWoaEGw"
   },
   "source": [
    "### Making the Confusion Matrix"
   ]
  },
  {
   "cell_type": "code",
   "execution_count": 39,
   "metadata": {
    "colab": {
     "base_uri": "https://localhost:8080/",
     "height": 68
    },
    "colab_type": "code",
    "executionInfo": {
     "elapsed": 33981,
     "status": "ok",
     "timestamp": 1590257481595,
     "user": {
      "displayName": "Hadelin de Ponteves",
      "photoUrl": "https://lh3.googleusercontent.com/a-/AOh14GhEuXdT7eQweUmRPW8_laJuPggSK6hfvpl5a6WBaA=s64",
      "userId": "15047218817161520419"
     },
     "user_tz": -240
    },
    "id": "ci6K_r6LaF6P",
    "outputId": "4d854e9e-22d5-432f-f6e5-a102fe3ae0bd"
   },
   "outputs": [
    {
     "name": "stdout",
     "output_type": "stream",
     "text": [
      "[[1507   88]\n",
      " [ 196  209]]\n"
     ]
    },
    {
     "data": {
      "text/plain": [
       "0.858"
      ]
     },
     "execution_count": 39,
     "metadata": {},
     "output_type": "execute_result"
    }
   ],
   "source": [
    "from sklearn.metrics import confusion_matrix, accuracy_score\n",
    "cm = confusion_matrix(y_test, y_pred)\n",
    "print(cm)\n",
    "accuracy_score(y_test, y_pred)"
   ]
  },
  {
   "cell_type": "code",
   "execution_count": null,
   "metadata": {},
   "outputs": [],
   "source": []
  }
 ],
 "metadata": {
  "colab": {
   "authorship_tag": "ABX9TyMeRFWFoGrdaL5S3dx5MWmb",
   "collapsed_sections": [],
   "name": "artificial_neural_network.ipynb",
   "provenance": [],
   "toc_visible": true
  },
  "kernelspec": {
   "display_name": "Python 3",
   "language": "python",
   "name": "python3"
  },
  "language_info": {
   "codemirror_mode": {
    "name": "ipython",
    "version": 3
   },
   "file_extension": ".py",
   "mimetype": "text/x-python",
   "name": "python",
   "nbconvert_exporter": "python",
   "pygments_lexer": "ipython3",
   "version": "3.7.6"
  }
 },
 "nbformat": 4,
 "nbformat_minor": 1
}

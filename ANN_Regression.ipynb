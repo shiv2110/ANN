{
 "cells": [
  {
   "cell_type": "markdown",
   "metadata": {
    "colab_type": "text",
    "id": "lP6JLo1tGNBg"
   },
   "source": [
    "# Artificial Neural Network"
   ]
  },
  {
   "cell_type": "markdown",
   "metadata": {
    "colab_type": "text",
    "id": "gWZyYmS_UE_L"
   },
   "source": [
    "### Importing the libraries"
   ]
  },
  {
   "cell_type": "code",
   "execution_count": 1,
   "metadata": {
    "colab": {},
    "colab_type": "code",
    "id": "MxkJoQBkUIHC"
   },
   "outputs": [],
   "source": [
    "import numpy as np\n",
    "import pandas as pd\n",
    "import tensorflow as tf\n"
   ]
  },
  {
   "cell_type": "code",
   "execution_count": 2,
   "metadata": {
    "colab": {
     "base_uri": "https://localhost:8080/",
     "height": 34
    },
    "colab_type": "code",
    "executionInfo": {
     "elapsed": 2400,
     "status": "ok",
     "timestamp": 1590257449959,
     "user": {
      "displayName": "Hadelin de Ponteves",
      "photoUrl": "https://lh3.googleusercontent.com/a-/AOh14GhEuXdT7eQweUmRPW8_laJuPggSK6hfvpl5a6WBaA=s64",
      "userId": "15047218817161520419"
     },
     "user_tz": -240
    },
    "id": "ZaTwK7ojXr2F",
    "outputId": "0b27a96d-d11a-43e8-ab4b-87c1f01896fe"
   },
   "outputs": [
    {
     "data": {
      "text/plain": [
       "'2.1.0'"
      ]
     },
     "execution_count": 2,
     "metadata": {},
     "output_type": "execute_result"
    }
   ],
   "source": [
    "tf.__version__"
   ]
  },
  {
   "cell_type": "markdown",
   "metadata": {
    "colab_type": "text",
    "id": "1E0Q3aoKUCRX"
   },
   "source": [
    "## Part 1 - Data Preprocessing"
   ]
  },
  {
   "cell_type": "markdown",
   "metadata": {
    "colab_type": "text",
    "id": "cKWAkFVGUU0Z"
   },
   "source": [
    "### Importing the dataset"
   ]
  },
  {
   "cell_type": "code",
   "execution_count": 3,
   "metadata": {
    "colab": {},
    "colab_type": "code",
    "id": "MXUkhkMfU4wq"
   },
   "outputs": [
    {
     "data": {
      "text/html": [
       "<div>\n",
       "<style scoped>\n",
       "    .dataframe tbody tr th:only-of-type {\n",
       "        vertical-align: middle;\n",
       "    }\n",
       "\n",
       "    .dataframe tbody tr th {\n",
       "        vertical-align: top;\n",
       "    }\n",
       "\n",
       "    .dataframe thead th {\n",
       "        text-align: right;\n",
       "    }\n",
       "</style>\n",
       "<table border=\"1\" class=\"dataframe\">\n",
       "  <thead>\n",
       "    <tr style=\"text-align: right;\">\n",
       "      <th></th>\n",
       "      <th>AT</th>\n",
       "      <th>V</th>\n",
       "      <th>AP</th>\n",
       "      <th>RH</th>\n",
       "      <th>PE</th>\n",
       "    </tr>\n",
       "  </thead>\n",
       "  <tbody>\n",
       "    <tr>\n",
       "      <th>0</th>\n",
       "      <td>8.34</td>\n",
       "      <td>40.77</td>\n",
       "      <td>1010.84</td>\n",
       "      <td>90.01</td>\n",
       "      <td>480.48</td>\n",
       "    </tr>\n",
       "    <tr>\n",
       "      <th>1</th>\n",
       "      <td>23.64</td>\n",
       "      <td>58.49</td>\n",
       "      <td>1011.40</td>\n",
       "      <td>74.20</td>\n",
       "      <td>445.75</td>\n",
       "    </tr>\n",
       "    <tr>\n",
       "      <th>2</th>\n",
       "      <td>29.74</td>\n",
       "      <td>56.90</td>\n",
       "      <td>1007.15</td>\n",
       "      <td>41.91</td>\n",
       "      <td>438.76</td>\n",
       "    </tr>\n",
       "    <tr>\n",
       "      <th>3</th>\n",
       "      <td>19.07</td>\n",
       "      <td>49.69</td>\n",
       "      <td>1007.22</td>\n",
       "      <td>76.79</td>\n",
       "      <td>453.09</td>\n",
       "    </tr>\n",
       "    <tr>\n",
       "      <th>4</th>\n",
       "      <td>11.80</td>\n",
       "      <td>40.66</td>\n",
       "      <td>1017.13</td>\n",
       "      <td>97.20</td>\n",
       "      <td>464.43</td>\n",
       "    </tr>\n",
       "  </tbody>\n",
       "</table>\n",
       "</div>"
      ],
      "text/plain": [
       "      AT      V       AP     RH      PE\n",
       "0   8.34  40.77  1010.84  90.01  480.48\n",
       "1  23.64  58.49  1011.40  74.20  445.75\n",
       "2  29.74  56.90  1007.15  41.91  438.76\n",
       "3  19.07  49.69  1007.22  76.79  453.09\n",
       "4  11.80  40.66  1017.13  97.20  464.43"
      ]
     },
     "execution_count": 3,
     "metadata": {},
     "output_type": "execute_result"
    }
   ],
   "source": [
    "dataset = pd.read_csv('Folds5x2_pp.csv')\n",
    "dataset.head()"
   ]
  },
  {
   "cell_type": "code",
   "execution_count": 4,
   "metadata": {
    "colab": {
     "base_uri": "https://localhost:8080/",
     "height": 137
    },
    "colab_type": "code",
    "executionInfo": {
     "elapsed": 2396,
     "status": "ok",
     "timestamp": 1590257449961,
     "user": {
      "displayName": "Hadelin de Ponteves",
      "photoUrl": "https://lh3.googleusercontent.com/a-/AOh14GhEuXdT7eQweUmRPW8_laJuPggSK6hfvpl5a6WBaA=s64",
      "userId": "15047218817161520419"
     },
     "user_tz": -240
    },
    "id": "VYP9cQTWbzuI",
    "outputId": "797e7a64-9bac-436a-8c9c-94437e5e7587"
   },
   "outputs": [],
   "source": [
    "x = dataset.iloc[:, :-1].values"
   ]
  },
  {
   "cell_type": "code",
   "execution_count": 5,
   "metadata": {},
   "outputs": [
    {
     "name": "stdout",
     "output_type": "stream",
     "text": [
      "[[   8.34   40.77 1010.84   90.01]\n",
      " [  23.64   58.49 1011.4    74.2 ]\n",
      " [  29.74   56.9  1007.15   41.91]\n",
      " ...\n",
      " [  15.99   43.34 1014.2    78.66]\n",
      " [  17.65   59.87 1018.58   94.65]\n",
      " [  23.68   51.3  1011.86   71.24]]\n"
     ]
    }
   ],
   "source": [
    "print(x)"
   ]
  },
  {
   "cell_type": "code",
   "execution_count": 6,
   "metadata": {
    "colab": {
     "base_uri": "https://localhost:8080/",
     "height": 34
    },
    "colab_type": "code",
    "executionInfo": {
     "elapsed": 2391,
     "status": "ok",
     "timestamp": 1590257449961,
     "user": {
      "displayName": "Hadelin de Ponteves",
      "photoUrl": "https://lh3.googleusercontent.com/a-/AOh14GhEuXdT7eQweUmRPW8_laJuPggSK6hfvpl5a6WBaA=s64",
      "userId": "15047218817161520419"
     },
     "user_tz": -240
    },
    "id": "38vKGE6Nb2RR",
    "outputId": "a815e42a-e0dd-4cb5-ab97-b17ead98fbc3"
   },
   "outputs": [],
   "source": [
    "y = dataset.iloc[:, -1].values"
   ]
  },
  {
   "cell_type": "code",
   "execution_count": null,
   "metadata": {
    "colab": {
     "base_uri": "https://localhost:8080/",
     "height": 137
    },
    "colab_type": "code",
    "executionInfo": {
     "elapsed": 2719,
     "status": "ok",
     "timestamp": 1590257450295,
     "user": {
      "displayName": "Hadelin de Ponteves",
      "photoUrl": "https://lh3.googleusercontent.com/a-/AOh14GhEuXdT7eQweUmRPW8_laJuPggSK6hfvpl5a6WBaA=s64",
      "userId": "15047218817161520419"
     },
     "user_tz": -240
    },
    "id": "-M1KboxFb6OO",
    "outputId": "e2b8c7e8-0cbc-4cdf-f4eb-7f0853a00b88"
   },
   "outputs": [],
   "source": []
  },
  {
   "cell_type": "markdown",
   "metadata": {
    "colab_type": "text",
    "id": "vHol938cW8zd"
   },
   "source": [
    "### Splitting the dataset into the Training set and Test set"
   ]
  },
  {
   "cell_type": "code",
   "execution_count": 7,
   "metadata": {
    "colab": {},
    "colab_type": "code",
    "id": "Z-TDt0Y_XEfc"
   },
   "outputs": [],
   "source": [
    "from sklearn.model_selection import train_test_split\n",
    "x_train, x_test, y_train, y_test = train_test_split(x, y, test_size = 0.2, random_state = 0)"
   ]
  },
  {
   "cell_type": "markdown",
   "metadata": {
    "colab_type": "text",
    "id": "-zfEzkRVXIwF"
   },
   "source": [
    "## Part 2 - Building the ANN"
   ]
  },
  {
   "cell_type": "markdown",
   "metadata": {
    "colab_type": "text",
    "id": "KvdeScabXtlB"
   },
   "source": [
    "### Initializing the ANN"
   ]
  },
  {
   "cell_type": "code",
   "execution_count": 8,
   "metadata": {
    "colab": {},
    "colab_type": "code",
    "id": "3dtrScHxXQox"
   },
   "outputs": [],
   "source": [
    "ann = tf.keras.models.Sequential()"
   ]
  },
  {
   "cell_type": "markdown",
   "metadata": {
    "colab_type": "text",
    "id": "rP6urV6SX7kS"
   },
   "source": [
    "### Adding the input layer and the first hidden layer"
   ]
  },
  {
   "cell_type": "code",
   "execution_count": 9,
   "metadata": {
    "colab": {},
    "colab_type": "code",
    "id": "bppGycBXYCQr"
   },
   "outputs": [],
   "source": [
    "ann.add(tf.keras.layers.Dense(units = 6, activation = 'relu'))"
   ]
  },
  {
   "cell_type": "markdown",
   "metadata": {
    "colab_type": "text",
    "id": "BELWAc_8YJze"
   },
   "source": [
    "### Adding the second hidden layer"
   ]
  },
  {
   "cell_type": "code",
   "execution_count": 10,
   "metadata": {
    "colab": {},
    "colab_type": "code",
    "id": "JneR0u0sYRTd"
   },
   "outputs": [],
   "source": [
    "ann.add(tf.keras.layers.Dense(units = 6, activation = 'relu'))"
   ]
  },
  {
   "cell_type": "markdown",
   "metadata": {
    "colab_type": "text",
    "id": "OyNEe6RXYcU4"
   },
   "source": [
    "### Adding the output layer"
   ]
  },
  {
   "cell_type": "code",
   "execution_count": 11,
   "metadata": {
    "colab": {},
    "colab_type": "code",
    "id": "Cn3x41RBYfvY"
   },
   "outputs": [],
   "source": [
    "ann.add(tf.keras.layers.Dense(units = 1))"
   ]
  },
  {
   "cell_type": "markdown",
   "metadata": {
    "colab_type": "text",
    "id": "JT4u2S1_Y4WG"
   },
   "source": [
    "## Part 3 - Training the ANN"
   ]
  },
  {
   "cell_type": "markdown",
   "metadata": {
    "colab_type": "text",
    "id": "8GWlJChhY_ZI"
   },
   "source": [
    "### Compiling the ANN"
   ]
  },
  {
   "cell_type": "code",
   "execution_count": 12,
   "metadata": {
    "colab": {},
    "colab_type": "code",
    "id": "fG3RrwDXZEaS"
   },
   "outputs": [],
   "source": [
    "ann.compile(optimizer = 'adam', loss = 'mean_squared_error')"
   ]
  },
  {
   "cell_type": "markdown",
   "metadata": {
    "colab_type": "text",
    "id": "0QR_G5u7ZLSM"
   },
   "source": [
    "### Training the ANN on the Training set"
   ]
  },
  {
   "cell_type": "code",
   "execution_count": 13,
   "metadata": {
    "colab": {
     "base_uri": "https://localhost:8080/",
     "height": 1000
    },
    "colab_type": "code",
    "executionInfo": {
     "elapsed": 33685,
     "status": "ok",
     "timestamp": 1590257481284,
     "user": {
      "displayName": "Hadelin de Ponteves",
      "photoUrl": "https://lh3.googleusercontent.com/a-/AOh14GhEuXdT7eQweUmRPW8_laJuPggSK6hfvpl5a6WBaA=s64",
      "userId": "15047218817161520419"
     },
     "user_tz": -240
    },
    "id": "nHZ-LKv_ZRb3",
    "outputId": "718cc4b0-b5aa-40f0-9b20-d3d31730a531",
    "scrolled": true
   },
   "outputs": [
    {
     "name": "stdout",
     "output_type": "stream",
     "text": [
      "Train on 7654 samples\n",
      "Epoch 1/100\n",
      "7654/7654 [==============================] - 1s 153us/sample - loss: 219647.0824\n",
      "Epoch 2/100\n",
      "7654/7654 [==============================] - 0s 63us/sample - loss: 12947.1270\n",
      "Epoch 3/100\n",
      "7654/7654 [==============================] - 1s 66us/sample - loss: 540.5552\n",
      "Epoch 4/100\n",
      "7654/7654 [==============================] - 0s 64us/sample - loss: 424.5865\n",
      "Epoch 5/100\n",
      "7654/7654 [==============================] - 0s 65us/sample - loss: 342.6875\n",
      "Epoch 6/100\n",
      "7654/7654 [==============================] - 0s 65us/sample - loss: 273.6540\n",
      "Epoch 7/100\n",
      "7654/7654 [==============================] - 0s 65us/sample - loss: 214.44790s - loss:\n",
      "Epoch 8/100\n",
      "7654/7654 [==============================] - 0s 64us/sample - loss: 163.3597\n",
      "Epoch 9/100\n",
      "7654/7654 [==============================] - 0s 65us/sample - loss: 124.7978\n",
      "Epoch 10/100\n",
      "7654/7654 [==============================] - 0s 64us/sample - loss: 95.1910\n",
      "Epoch 11/100\n",
      "7654/7654 [==============================] - 1s 66us/sample - loss: 75.1125\n",
      "Epoch 12/100\n",
      "7654/7654 [==============================] - 0s 65us/sample - loss: 63.2911\n",
      "Epoch 13/100\n",
      "7654/7654 [==============================] - 0s 63us/sample - loss: 57.0758\n",
      "Epoch 14/100\n",
      "7654/7654 [==============================] - 1s 66us/sample - loss: 52.8921\n",
      "Epoch 15/100\n",
      "7654/7654 [==============================] - 0s 64us/sample - loss: 51.1950\n",
      "Epoch 16/100\n",
      "7654/7654 [==============================] - 0s 65us/sample - loss: 50.4462\n",
      "Epoch 17/100\n",
      "7654/7654 [==============================] - 0s 64us/sample - loss: 49.6497\n",
      "Epoch 18/100\n",
      "7654/7654 [==============================] - 0s 65us/sample - loss: 48.6111\n",
      "Epoch 19/100\n",
      "7654/7654 [==============================] - 0s 65us/sample - loss: 46.9497\n",
      "Epoch 20/100\n",
      "7654/7654 [==============================] - 1s 69us/sample - loss: 46.1745\n",
      "Epoch 21/100\n",
      "7654/7654 [==============================] - 1s 76us/sample - loss: 45.6805\n",
      "Epoch 22/100\n",
      "7654/7654 [==============================] - 1s 73us/sample - loss: 44.9021\n",
      "Epoch 23/100\n",
      "7654/7654 [==============================] - 1s 69us/sample - loss: 43.8473\n",
      "Epoch 24/100\n",
      "7654/7654 [==============================] - 1s 66us/sample - loss: 43.2834\n",
      "Epoch 25/100\n",
      "7654/7654 [==============================] - 1s 67us/sample - loss: 41.9268\n",
      "Epoch 26/100\n",
      "7654/7654 [==============================] - 0s 65us/sample - loss: 41.1275\n",
      "Epoch 27/100\n",
      "7654/7654 [==============================] - 0s 65us/sample - loss: 39.9546\n",
      "Epoch 28/100\n",
      "7654/7654 [==============================] - 0s 65us/sample - loss: 39.1470\n",
      "Epoch 29/100\n",
      "7654/7654 [==============================] - 1s 66us/sample - loss: 37.1484\n",
      "Epoch 30/100\n",
      "7654/7654 [==============================] - 0s 65us/sample - loss: 36.0854\n",
      "Epoch 31/100\n",
      "7654/7654 [==============================] - 0s 63us/sample - loss: 36.3651\n",
      "Epoch 32/100\n",
      "7654/7654 [==============================] - 1s 66us/sample - loss: 36.0221\n",
      "Epoch 33/100\n",
      "7654/7654 [==============================] - 1s 66us/sample - loss: 33.7917\n",
      "Epoch 34/100\n",
      "7654/7654 [==============================] - 1s 66us/sample - loss: 33.2594\n",
      "Epoch 35/100\n",
      "7654/7654 [==============================] - 0s 65us/sample - loss: 33.2529\n",
      "Epoch 36/100\n",
      "7654/7654 [==============================] - 0s 65us/sample - loss: 30.8743\n",
      "Epoch 37/100\n",
      "7654/7654 [==============================] - 0s 64us/sample - loss: 30.8067\n",
      "Epoch 38/100\n",
      "7654/7654 [==============================] - 0s 65us/sample - loss: 30.1030\n",
      "Epoch 39/100\n",
      "7654/7654 [==============================] - 0s 65us/sample - loss: 29.5628\n",
      "Epoch 40/100\n",
      "7654/7654 [==============================] - 1s 65us/sample - loss: 30.1296\n",
      "Epoch 41/100\n",
      "7654/7654 [==============================] - 1s 70us/sample - loss: 29.6854\n",
      "Epoch 42/100\n",
      "7654/7654 [==============================] - 0s 63us/sample - loss: 28.6385\n",
      "Epoch 43/100\n",
      "7654/7654 [==============================] - 0s 61us/sample - loss: 28.4582\n",
      "Epoch 44/100\n",
      "7654/7654 [==============================] - 0s 64us/sample - loss: 29.3785\n",
      "Epoch 45/100\n",
      "7654/7654 [==============================] - 0s 65us/sample - loss: 27.8287\n",
      "Epoch 46/100\n",
      "7654/7654 [==============================] - 1s 65us/sample - loss: 28.3714\n",
      "Epoch 47/100\n",
      "7654/7654 [==============================] - 0s 65us/sample - loss: 27.3429\n",
      "Epoch 48/100\n",
      "7654/7654 [==============================] - 0s 64us/sample - loss: 27.7664\n",
      "Epoch 49/100\n",
      "7654/7654 [==============================] - 0s 65us/sample - loss: 28.3124\n",
      "Epoch 50/100\n",
      "7654/7654 [==============================] - 0s 64us/sample - loss: 27.5210\n",
      "Epoch 51/100\n",
      "7654/7654 [==============================] - 1s 65us/sample - loss: 27.7095\n",
      "Epoch 52/100\n",
      "7654/7654 [==============================] - 1s 73us/sample - loss: 27.5156\n",
      "Epoch 53/100\n",
      "7654/7654 [==============================] - 1s 74us/sample - loss: 27.2916\n",
      "Epoch 54/100\n",
      "7654/7654 [==============================] - 1s 71us/sample - loss: 26.6562\n",
      "Epoch 55/100\n",
      "7654/7654 [==============================] - 1s 68us/sample - loss: 26.8211\n",
      "Epoch 56/100\n",
      "7654/7654 [==============================] - 0s 64us/sample - loss: 26.8307\n",
      "Epoch 57/100\n",
      "7654/7654 [==============================] - 0s 63us/sample - loss: 26.8359\n",
      "Epoch 58/100\n",
      "7654/7654 [==============================] - 1s 66us/sample - loss: 27.0042\n",
      "Epoch 59/100\n",
      "7654/7654 [==============================] - 0s 62us/sample - loss: 27.3467\n",
      "Epoch 60/100\n",
      "7654/7654 [==============================] - 0s 64us/sample - loss: 27.9397\n",
      "Epoch 61/100\n",
      "7654/7654 [==============================] - 0s 64us/sample - loss: 27.3332\n",
      "Epoch 62/100\n",
      "7654/7654 [==============================] - 1s 66us/sample - loss: 26.8966\n",
      "Epoch 63/100\n",
      "7654/7654 [==============================] - 0s 64us/sample - loss: 27.0724\n",
      "Epoch 64/100\n",
      "7654/7654 [==============================] - 0s 63us/sample - loss: 26.7911\n",
      "Epoch 65/100\n",
      "7654/7654 [==============================] - 0s 64us/sample - loss: 27.8866\n",
      "Epoch 66/100\n",
      "7654/7654 [==============================] - 0s 64us/sample - loss: 27.1415\n",
      "Epoch 67/100\n",
      "7654/7654 [==============================] - 0s 65us/sample - loss: 28.1274\n",
      "Epoch 68/100\n",
      "7654/7654 [==============================] - 0s 63us/sample - loss: 26.9890\n",
      "Epoch 69/100\n",
      "7654/7654 [==============================] - 0s 63us/sample - loss: 28.0373\n",
      "Epoch 70/100\n",
      "7654/7654 [==============================] - 0s 65us/sample - loss: 26.8929\n",
      "Epoch 71/100\n",
      "7654/7654 [==============================] - 0s 63us/sample - loss: 26.7237\n",
      "Epoch 72/100\n",
      "7654/7654 [==============================] - 0s 64us/sample - loss: 27.3867\n",
      "Epoch 73/100\n",
      "7654/7654 [==============================] - 0s 62us/sample - loss: 26.8937\n",
      "Epoch 74/100\n",
      "7654/7654 [==============================] - 0s 64us/sample - loss: 27.2306\n",
      "Epoch 75/100\n",
      "7654/7654 [==============================] - 0s 61us/sample - loss: 27.4431\n",
      "Epoch 76/100\n",
      "7654/7654 [==============================] - 0s 64us/sample - loss: 27.2626\n",
      "Epoch 77/100\n",
      "7654/7654 [==============================] - 0s 61us/sample - loss: 26.5505\n",
      "Epoch 78/100\n",
      "7654/7654 [==============================] - 0s 65us/sample - loss: 28.9168\n",
      "Epoch 79/100\n",
      "7654/7654 [==============================] - 0s 62us/sample - loss: 27.2003\n",
      "Epoch 80/100\n",
      "7654/7654 [==============================] - 0s 64us/sample - loss: 26.5421\n",
      "Epoch 81/100\n",
      "7654/7654 [==============================] - 0s 63us/sample - loss: 27.6916\n",
      "Epoch 82/100\n",
      "7654/7654 [==============================] - 0s 63us/sample - loss: 27.4306\n",
      "Epoch 83/100\n",
      "7654/7654 [==============================] - 0s 63us/sample - loss: 27.3968\n",
      "Epoch 84/100\n",
      "7654/7654 [==============================] - 1s 71us/sample - loss: 26.5204\n",
      "Epoch 85/100\n",
      "7654/7654 [==============================] - 1s 70us/sample - loss: 27.3496\n",
      "Epoch 86/100\n",
      "7654/7654 [==============================] - 1s 74us/sample - loss: 27.4714\n",
      "Epoch 87/100\n",
      "7654/7654 [==============================] - 1s 66us/sample - loss: 27.7641\n",
      "Epoch 88/100\n",
      "7654/7654 [==============================] - 0s 63us/sample - loss: 27.1804\n",
      "Epoch 89/100\n",
      "7654/7654 [==============================] - 1s 66us/sample - loss: 26.9314\n",
      "Epoch 90/100\n",
      "7654/7654 [==============================] - 0s 65us/sample - loss: 27.2931\n",
      "Epoch 91/100\n",
      "7654/7654 [==============================] - 0s 63us/sample - loss: 26.7645\n",
      "Epoch 92/100\n",
      "7654/7654 [==============================] - 0s 64us/sample - loss: 27.2930\n",
      "Epoch 93/100\n",
      "7654/7654 [==============================] - 0s 65us/sample - loss: 27.7230\n",
      "Epoch 94/100\n",
      "7654/7654 [==============================] - 1s 65us/sample - loss: 27.2986\n",
      "Epoch 95/100\n",
      "7654/7654 [==============================] - 1s 68us/sample - loss: 27.6301\n",
      "Epoch 96/100\n",
      "7654/7654 [==============================] - 0s 65us/sample - loss: 26.9710\n",
      "Epoch 97/100\n",
      "7654/7654 [==============================] - 1s 65us/sample - loss: 27.2956\n",
      "Epoch 98/100\n",
      "7654/7654 [==============================] - 1s 65us/sample - loss: 27.1895\n",
      "Epoch 99/100\n",
      "7654/7654 [==============================] - 0s 65us/sample - loss: 26.5416\n",
      "Epoch 100/100\n",
      "7654/7654 [==============================] - 0s 65us/sample - loss: 27.5723\n"
     ]
    },
    {
     "data": {
      "text/plain": [
       "<tensorflow.python.keras.callbacks.History at 0x19f048029c8>"
      ]
     },
     "execution_count": 13,
     "metadata": {},
     "output_type": "execute_result"
    }
   ],
   "source": [
    "ann.fit(x_train, y_train, batch_size = 32, epochs = 100)"
   ]
  },
  {
   "cell_type": "markdown",
   "metadata": {
    "colab_type": "text",
    "id": "tJj5k2MxZga3"
   },
   "source": [
    "## Part 4 - Making the predictions and evaluating the model"
   ]
  },
  {
   "cell_type": "markdown",
   "metadata": {
    "colab_type": "text",
    "id": "u7yx47jPZt11"
   },
   "source": [
    "### Predicting the Test set results"
   ]
  },
  {
   "cell_type": "code",
   "execution_count": 16,
   "metadata": {
    "colab": {
     "base_uri": "https://localhost:8080/",
     "height": 137
    },
    "colab_type": "code",
    "executionInfo": {
     "elapsed": 33987,
     "status": "ok",
     "timestamp": 1590257481595,
     "user": {
      "displayName": "Hadelin de Ponteves",
      "photoUrl": "https://lh3.googleusercontent.com/a-/AOh14GhEuXdT7eQweUmRPW8_laJuPggSK6hfvpl5a6WBaA=s64",
      "userId": "15047218817161520419"
     },
     "user_tz": -240
    },
    "id": "nIyEeQdRZwgs",
    "outputId": "82330ba8-9bdc-4fd1-d3cf-b6d78ee7c2a3",
    "scrolled": false
   },
   "outputs": [
    {
     "name": "stdout",
     "output_type": "stream",
     "text": [
      "[[431.43 426.18]\n",
      " [450.8  451.1 ]\n",
      " [446.27 442.87]\n",
      " ...\n",
      " [457.29 454.2 ]\n",
      " [450.35 444.13]\n",
      " [432.64 436.58]]\n"
     ]
    }
   ],
   "source": [
    "y_pred = ann.predict(x_test)\n",
    "np.set_printoptions(precision = 2)\n",
    "print(np.concatenate((y_pred.reshape(len(y_pred), 1), y_test.reshape(len(y_test), 1)), 1))"
   ]
  },
  {
   "cell_type": "markdown",
   "metadata": {
    "colab_type": "text",
    "id": "o0oyfLWoaEGw"
   },
   "source": [
    "### Making the Confusion Matrix"
   ]
  },
  {
   "cell_type": "code",
   "execution_count": 17,
   "metadata": {
    "colab": {
     "base_uri": "https://localhost:8080/",
     "height": 68
    },
    "colab_type": "code",
    "executionInfo": {
     "elapsed": 33981,
     "status": "ok",
     "timestamp": 1590257481595,
     "user": {
      "displayName": "Hadelin de Ponteves",
      "photoUrl": "https://lh3.googleusercontent.com/a-/AOh14GhEuXdT7eQweUmRPW8_laJuPggSK6hfvpl5a6WBaA=s64",
      "userId": "15047218817161520419"
     },
     "user_tz": -240
    },
    "id": "ci6K_r6LaF6P",
    "outputId": "4d854e9e-22d5-432f-f6e5-a102fe3ae0bd"
   },
   "outputs": [
    {
     "data": {
      "text/plain": [
       "0.9074200573800671"
      ]
     },
     "execution_count": 17,
     "metadata": {},
     "output_type": "execute_result"
    }
   ],
   "source": [
    "from sklearn.metrics import r2_score\n",
    "r2_score(y_test, y_pred)"
   ]
  },
  {
   "cell_type": "code",
   "execution_count": null,
   "metadata": {},
   "outputs": [],
   "source": []
  }
 ],
 "metadata": {
  "colab": {
   "authorship_tag": "ABX9TyMeRFWFoGrdaL5S3dx5MWmb",
   "collapsed_sections": [],
   "name": "artificial_neural_network.ipynb",
   "provenance": [],
   "toc_visible": true
  },
  "kernelspec": {
   "display_name": "Python 3",
   "language": "python",
   "name": "python3"
  },
  "language_info": {
   "codemirror_mode": {
    "name": "ipython",
    "version": 3
   },
   "file_extension": ".py",
   "mimetype": "text/x-python",
   "name": "python",
   "nbconvert_exporter": "python",
   "pygments_lexer": "ipython3",
   "version": "3.7.6"
  }
 },
 "nbformat": 4,
 "nbformat_minor": 1
}
